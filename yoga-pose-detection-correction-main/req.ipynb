{
 "cells": [
  {
   "cell_type": "code",
   "execution_count": 1,
   "metadata": {},
   "outputs": [
    {
     "ename": "SyntaxError",
     "evalue": "invalid syntax (1544219354.py, line 1)",
     "output_type": "error",
     "traceback": [
      "\u001b[1;36m  Cell \u001b[1;32mIn[1], line 1\u001b[1;36m\u001b[0m\n\u001b[1;33m    pip install absl-py==2.0.0\u001b[0m\n\u001b[1;37m        ^\u001b[0m\n\u001b[1;31mSyntaxError\u001b[0m\u001b[1;31m:\u001b[0m invalid syntax\n"
     ]
    }
   ],
   "source": [
    "pip install absl-py==2.0.0\n",
    "pip install attrs==23.1.0\n",
    "pip install cffi==1.16.0\n",
    "pip install comtypes==1.2.0\n",
    "pip install contourpy==1.1.1\n",
    "pip install cycler==0.12.0\n",
    "pip install flatbuffers==23.5.26\n",
    "pip install fonttools==4.43.0\n",
    "pip install joblib==1.3.2\n",
    "pip install kiwisolver==1.4.5\n",
    "pip install matplotlib==3.8.0\n",
    "pip install mediapipe==0.10.5\n",
    "pip install numpy==1.26.0\n",
    "pip install opencv-contrib-python==4.8.1.78\n",
    "pip install opencv-python==4.8.1.78\n",
    "pip install packaging==23.2\n",
    "pip install pandas==2.1.1\n",
    "pip install Pillow==10.0.1\n",
    "pip install pip-autoremove==0.10.0\n",
    "pip install pipdeptree==2.13.0\n",
    "pip install protobuf==3.20.3\n",
    "pip install pycparser==2.21\n",
    "pip install pyparsing==3.1.1\n",
    "pip install pypiwin32==223\n",
    "pip install python-dateutil==2.8.2\n",
    "pip install pyttsx4==3.0.15\n",
    "pip install pytz==2023.3.post1\n",
    "pip install pywin32==306\n",
    "pip install scikit-learn==1.3.1\n",
    "pip install scipy==1.11.3\n",
    "pip install six==1.16.0\n",
    "pip install sounddevice==0.4.6\n",
    "pip install threadpoolctl==3.2.0\n",
    "pip install tzdata==2023.3\n"
   ]
  }
 ],
 "metadata": {
  "kernelspec": {
   "display_name": "Python 3",
   "language": "python",
   "name": "python3"
  },
  "language_info": {
   "codemirror_mode": {
    "name": "ipython",
    "version": 3
   },
   "file_extension": ".py",
   "mimetype": "text/x-python",
   "name": "python",
   "nbconvert_exporter": "python",
   "pygments_lexer": "ipython3",
   "version": "3.12.5"
  }
 },
 "nbformat": 4,
 "nbformat_minor": 2
}
